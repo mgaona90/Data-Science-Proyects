{
 "cells": [
  {
   "cell_type": "code",
   "execution_count": 1,
   "id": "4151f2d8",
   "metadata": {
    "execution": {
     "iopub.execute_input": "2022-03-25T10:43:36.256996Z",
     "iopub.status.busy": "2022-03-25T10:43:36.255203Z",
     "iopub.status.idle": "2022-03-25T10:43:36.262370Z",
     "shell.execute_reply": "2022-03-25T10:43:36.262872Z",
     "shell.execute_reply.started": "2022-03-25T10:42:00.638578Z"
    },
    "papermill": {
     "duration": 0.058484,
     "end_time": "2022-03-25T10:43:36.263248",
     "exception": false,
     "start_time": "2022-03-25T10:43:36.204764",
     "status": "completed"
    },
    "tags": []
   },
   "outputs": [],
   "source": [
    "# !pip install skforecast"
   ]
  },
  {
   "cell_type": "code",
   "execution_count": 2,
   "id": "6d00f2f9",
   "metadata": {
    "execution": {
     "iopub.execute_input": "2022-03-25T10:43:36.361538Z",
     "iopub.status.busy": "2022-03-25T10:43:36.360484Z",
     "iopub.status.idle": "2022-03-25T10:43:36.362967Z",
     "shell.execute_reply": "2022-03-25T10:43:36.362425Z",
     "shell.execute_reply.started": "2022-03-25T10:42:00.650798Z"
    },
    "papermill": {
     "duration": 0.050134,
     "end_time": "2022-03-25T10:43:36.363117",
     "exception": false,
     "start_time": "2022-03-25T10:43:36.312983",
     "status": "completed"
    },
    "tags": []
   },
   "outputs": [],
   "source": [
    "# !pip install scikit-learn-intelex -q --progress-bar off\n",
    "\n",
    "\n",
    "# from sklearnex import patch_sklearn\n",
    "# patch_sklearn()"
   ]
  },
  {
   "cell_type": "code",
   "execution_count": 3,
   "id": "3f879adc",
   "metadata": {
    "execution": {
     "iopub.execute_input": "2022-03-25T10:43:36.465251Z",
     "iopub.status.busy": "2022-03-25T10:43:36.463645Z",
     "iopub.status.idle": "2022-03-25T10:43:38.133417Z",
     "shell.execute_reply": "2022-03-25T10:43:38.134188Z",
     "shell.execute_reply.started": "2022-03-25T10:42:00.659203Z"
    },
    "papermill": {
     "duration": 1.724245,
     "end_time": "2022-03-25T10:43:38.134618",
     "exception": false,
     "start_time": "2022-03-25T10:43:36.410373",
     "status": "completed"
    },
    "tags": []
   },
   "outputs": [
    {
     "name": "stdout",
     "output_type": "stream",
     "text": [
      "Setup done\n"
     ]
    }
   ],
   "source": [
    "import time\n",
    "import pandas as pd\n",
    "import numpy as np\n",
    "import matplotlib.pyplot as plt\n",
    "import seaborn as sns\n",
    "from sklearn.decomposition import PCA\n",
    "from sklearn.preprocessing import StandardScaler, LabelEncoder\n",
    "from sklearn.model_selection import StratifiedKFold, GridSearchCV, RandomizedSearchCV\n",
    "from sklearn.pipeline import make_pipeline\n",
    "from sklearn.linear_model import LogisticRegression, LinearRegression, HuberRegressor, Ridge, Lasso, SGDClassifier\n",
    "from sklearn.ensemble import RandomForestRegressor\n",
    "from sklearn.tree import DecisionTreeRegressor\n",
    "from sklearn.feature_selection import RFE, RFECV, mutual_info_regression\n",
    "from sklearn.metrics import accuracy_score, mean_absolute_error\n",
    "# from skforecast.ForecasterAutoreg import ForecasterAutoreg\n",
    "# from skforecast.ForecasterAutoregCustom import ForecasterAutoregCustom\n",
    "# from skforecast.ForecasterAutoregMultiOutput import ForecasterAutoregMultiOutput\n",
    "# from skforecast.model_selection import grid_search_forecaster\n",
    "# from skforecast.model_selection import backtesting_forecaster\n",
    "\n",
    "from joblib import dump, load\n",
    "\n",
    "# Dimensionality Reduction / Clustering\n",
    "from sklearn.decomposition import PCA\n",
    "from sklearn.cluster import KMeans\n",
    "\n",
    "\n",
    "# Metrics\n",
    "from sklearn.metrics import precision_recall_fscore_support, roc_curve, auc\n",
    "plt.style.use('fivethirtyeight')\n",
    "plt.rcParams['lines.linewidth'] = 1.5\n",
    "\n",
    "import warnings\n",
    "warnings.filterwarnings('ignore')\n",
    "\n",
    "print(\"Setup done\")"
   ]
  },
  {
   "cell_type": "code",
   "execution_count": 4,
   "id": "47db7bf8",
   "metadata": {
    "execution": {
     "iopub.execute_input": "2022-03-25T10:43:38.235855Z",
     "iopub.status.busy": "2022-03-25T10:43:38.234803Z",
     "iopub.status.idle": "2022-03-25T10:43:39.377428Z",
     "shell.execute_reply": "2022-03-25T10:43:39.376771Z",
     "shell.execute_reply.started": "2022-03-25T10:42:01.359506Z"
    },
    "papermill": {
     "duration": 1.194896,
     "end_time": "2022-03-25T10:43:39.377594",
     "exception": false,
     "start_time": "2022-03-25T10:43:38.182698",
     "status": "completed"
    },
    "tags": []
   },
   "outputs": [],
   "source": [
    "df_train = pd.read_csv('../input/tabular-playground-series-mar-2022/train.csv')\n",
    "df_test = pd.read_csv('../input/tabular-playground-series-mar-2022/test.csv')\n",
    "\n",
    "for df in [df_train,df_test]:\n",
    "    df['time']=pd.to_datetime(df['time'],format='%Y-%m-%d %H:%M:%S')\n",
    "#     df.set_index('time',inplace=True)\n",
    "    df=df.sort_index()"
   ]
  },
  {
   "cell_type": "code",
   "execution_count": 5,
   "id": "b286d44a",
   "metadata": {
    "execution": {
     "iopub.execute_input": "2022-03-25T10:43:39.470748Z",
     "iopub.status.busy": "2022-03-25T10:43:39.470045Z",
     "iopub.status.idle": "2022-03-25T10:43:39.492858Z",
     "shell.execute_reply": "2022-03-25T10:43:39.493385Z",
     "shell.execute_reply.started": "2022-03-25T10:42:02.164982Z"
    },
    "papermill": {
     "duration": 0.071432,
     "end_time": "2022-03-25T10:43:39.493556",
     "exception": false,
     "start_time": "2022-03-25T10:43:39.422124",
     "status": "completed"
    },
    "tags": []
   },
   "outputs": [
    {
     "data": {
      "text/html": [
       "<div>\n",
       "<style scoped>\n",
       "    .dataframe tbody tr th:only-of-type {\n",
       "        vertical-align: middle;\n",
       "    }\n",
       "\n",
       "    .dataframe tbody tr th {\n",
       "        vertical-align: top;\n",
       "    }\n",
       "\n",
       "    .dataframe thead th {\n",
       "        text-align: right;\n",
       "    }\n",
       "</style>\n",
       "<table border=\"1\" class=\"dataframe\">\n",
       "  <thead>\n",
       "    <tr style=\"text-align: right;\">\n",
       "      <th></th>\n",
       "      <th>row_id</th>\n",
       "      <th>time</th>\n",
       "      <th>x</th>\n",
       "      <th>y</th>\n",
       "      <th>direction</th>\n",
       "      <th>congestion</th>\n",
       "    </tr>\n",
       "  </thead>\n",
       "  <tbody>\n",
       "    <tr>\n",
       "      <th>0</th>\n",
       "      <td>0</td>\n",
       "      <td>1991-04-01</td>\n",
       "      <td>0</td>\n",
       "      <td>0</td>\n",
       "      <td>EB</td>\n",
       "      <td>70</td>\n",
       "    </tr>\n",
       "    <tr>\n",
       "      <th>1</th>\n",
       "      <td>1</td>\n",
       "      <td>1991-04-01</td>\n",
       "      <td>0</td>\n",
       "      <td>0</td>\n",
       "      <td>NB</td>\n",
       "      <td>49</td>\n",
       "    </tr>\n",
       "    <tr>\n",
       "      <th>2</th>\n",
       "      <td>2</td>\n",
       "      <td>1991-04-01</td>\n",
       "      <td>0</td>\n",
       "      <td>0</td>\n",
       "      <td>SB</td>\n",
       "      <td>24</td>\n",
       "    </tr>\n",
       "    <tr>\n",
       "      <th>3</th>\n",
       "      <td>3</td>\n",
       "      <td>1991-04-01</td>\n",
       "      <td>0</td>\n",
       "      <td>1</td>\n",
       "      <td>EB</td>\n",
       "      <td>18</td>\n",
       "    </tr>\n",
       "    <tr>\n",
       "      <th>4</th>\n",
       "      <td>4</td>\n",
       "      <td>1991-04-01</td>\n",
       "      <td>0</td>\n",
       "      <td>1</td>\n",
       "      <td>NB</td>\n",
       "      <td>60</td>\n",
       "    </tr>\n",
       "  </tbody>\n",
       "</table>\n",
       "</div>"
      ],
      "text/plain": [
       "   row_id       time  x  y direction  congestion\n",
       "0       0 1991-04-01  0  0        EB          70\n",
       "1       1 1991-04-01  0  0        NB          49\n",
       "2       2 1991-04-01  0  0        SB          24\n",
       "3       3 1991-04-01  0  1        EB          18\n",
       "4       4 1991-04-01  0  1        NB          60"
      ]
     },
     "execution_count": 5,
     "metadata": {},
     "output_type": "execute_result"
    }
   ],
   "source": [
    "df_train.head()"
   ]
  },
  {
   "cell_type": "code",
   "execution_count": 6,
   "id": "68c21c3e",
   "metadata": {
    "execution": {
     "iopub.execute_input": "2022-03-25T10:43:39.584659Z",
     "iopub.status.busy": "2022-03-25T10:43:39.583940Z",
     "iopub.status.idle": "2022-03-25T10:43:39.596533Z",
     "shell.execute_reply": "2022-03-25T10:43:39.597084Z",
     "shell.execute_reply.started": "2022-03-25T10:42:02.182959Z"
    },
    "papermill": {
     "duration": 0.060487,
     "end_time": "2022-03-25T10:43:39.597277",
     "exception": false,
     "start_time": "2022-03-25T10:43:39.536790",
     "status": "completed"
    },
    "tags": []
   },
   "outputs": [
    {
     "data": {
      "text/html": [
       "<div>\n",
       "<style scoped>\n",
       "    .dataframe tbody tr th:only-of-type {\n",
       "        vertical-align: middle;\n",
       "    }\n",
       "\n",
       "    .dataframe tbody tr th {\n",
       "        vertical-align: top;\n",
       "    }\n",
       "\n",
       "    .dataframe thead th {\n",
       "        text-align: right;\n",
       "    }\n",
       "</style>\n",
       "<table border=\"1\" class=\"dataframe\">\n",
       "  <thead>\n",
       "    <tr style=\"text-align: right;\">\n",
       "      <th></th>\n",
       "      <th>row_id</th>\n",
       "      <th>time</th>\n",
       "      <th>x</th>\n",
       "      <th>y</th>\n",
       "      <th>direction</th>\n",
       "    </tr>\n",
       "  </thead>\n",
       "  <tbody>\n",
       "    <tr>\n",
       "      <th>0</th>\n",
       "      <td>848835</td>\n",
       "      <td>1991-09-30 12:00:00</td>\n",
       "      <td>0</td>\n",
       "      <td>0</td>\n",
       "      <td>EB</td>\n",
       "    </tr>\n",
       "    <tr>\n",
       "      <th>1</th>\n",
       "      <td>848836</td>\n",
       "      <td>1991-09-30 12:00:00</td>\n",
       "      <td>0</td>\n",
       "      <td>0</td>\n",
       "      <td>NB</td>\n",
       "    </tr>\n",
       "    <tr>\n",
       "      <th>2</th>\n",
       "      <td>848837</td>\n",
       "      <td>1991-09-30 12:00:00</td>\n",
       "      <td>0</td>\n",
       "      <td>0</td>\n",
       "      <td>SB</td>\n",
       "    </tr>\n",
       "    <tr>\n",
       "      <th>3</th>\n",
       "      <td>848838</td>\n",
       "      <td>1991-09-30 12:00:00</td>\n",
       "      <td>0</td>\n",
       "      <td>1</td>\n",
       "      <td>EB</td>\n",
       "    </tr>\n",
       "    <tr>\n",
       "      <th>4</th>\n",
       "      <td>848839</td>\n",
       "      <td>1991-09-30 12:00:00</td>\n",
       "      <td>0</td>\n",
       "      <td>1</td>\n",
       "      <td>NB</td>\n",
       "    </tr>\n",
       "  </tbody>\n",
       "</table>\n",
       "</div>"
      ],
      "text/plain": [
       "   row_id                time  x  y direction\n",
       "0  848835 1991-09-30 12:00:00  0  0        EB\n",
       "1  848836 1991-09-30 12:00:00  0  0        NB\n",
       "2  848837 1991-09-30 12:00:00  0  0        SB\n",
       "3  848838 1991-09-30 12:00:00  0  1        EB\n",
       "4  848839 1991-09-30 12:00:00  0  1        NB"
      ]
     },
     "execution_count": 6,
     "metadata": {},
     "output_type": "execute_result"
    }
   ],
   "source": [
    "df_test.head()"
   ]
  },
  {
   "cell_type": "code",
   "execution_count": 7,
   "id": "de91c16c",
   "metadata": {
    "execution": {
     "iopub.execute_input": "2022-03-25T10:43:39.692287Z",
     "iopub.status.busy": "2022-03-25T10:43:39.691517Z",
     "iopub.status.idle": "2022-03-25T10:43:39.705586Z",
     "shell.execute_reply": "2022-03-25T10:43:39.706247Z",
     "shell.execute_reply.started": "2022-03-25T10:42:02.200563Z"
    },
    "papermill": {
     "duration": 0.065463,
     "end_time": "2022-03-25T10:43:39.706473",
     "exception": false,
     "start_time": "2022-03-25T10:43:39.641010",
     "status": "completed"
    },
    "tags": []
   },
   "outputs": [
    {
     "data": {
      "text/html": [
       "<div>\n",
       "<style scoped>\n",
       "    .dataframe tbody tr th:only-of-type {\n",
       "        vertical-align: middle;\n",
       "    }\n",
       "\n",
       "    .dataframe tbody tr th {\n",
       "        vertical-align: top;\n",
       "    }\n",
       "\n",
       "    .dataframe thead th {\n",
       "        text-align: right;\n",
       "    }\n",
       "</style>\n",
       "<table border=\"1\" class=\"dataframe\">\n",
       "  <thead>\n",
       "    <tr style=\"text-align: right;\">\n",
       "      <th></th>\n",
       "      <th>row_id</th>\n",
       "      <th>time</th>\n",
       "      <th>x</th>\n",
       "      <th>y</th>\n",
       "      <th>direction</th>\n",
       "    </tr>\n",
       "  </thead>\n",
       "  <tbody>\n",
       "    <tr>\n",
       "      <th>0</th>\n",
       "      <td>848835</td>\n",
       "      <td>1991-09-30 12:00:00</td>\n",
       "      <td>0</td>\n",
       "      <td>0</td>\n",
       "      <td>EB</td>\n",
       "    </tr>\n",
       "    <tr>\n",
       "      <th>1</th>\n",
       "      <td>848836</td>\n",
       "      <td>1991-09-30 12:00:00</td>\n",
       "      <td>0</td>\n",
       "      <td>0</td>\n",
       "      <td>NB</td>\n",
       "    </tr>\n",
       "    <tr>\n",
       "      <th>2</th>\n",
       "      <td>848837</td>\n",
       "      <td>1991-09-30 12:00:00</td>\n",
       "      <td>0</td>\n",
       "      <td>0</td>\n",
       "      <td>SB</td>\n",
       "    </tr>\n",
       "    <tr>\n",
       "      <th>3</th>\n",
       "      <td>848838</td>\n",
       "      <td>1991-09-30 12:00:00</td>\n",
       "      <td>0</td>\n",
       "      <td>1</td>\n",
       "      <td>EB</td>\n",
       "    </tr>\n",
       "    <tr>\n",
       "      <th>4</th>\n",
       "      <td>848839</td>\n",
       "      <td>1991-09-30 12:00:00</td>\n",
       "      <td>0</td>\n",
       "      <td>1</td>\n",
       "      <td>NB</td>\n",
       "    </tr>\n",
       "  </tbody>\n",
       "</table>\n",
       "</div>"
      ],
      "text/plain": [
       "   row_id                time  x  y direction\n",
       "0  848835 1991-09-30 12:00:00  0  0        EB\n",
       "1  848836 1991-09-30 12:00:00  0  0        NB\n",
       "2  848837 1991-09-30 12:00:00  0  0        SB\n",
       "3  848838 1991-09-30 12:00:00  0  1        EB\n",
       "4  848839 1991-09-30 12:00:00  0  1        NB"
      ]
     },
     "execution_count": 7,
     "metadata": {},
     "output_type": "execute_result"
    }
   ],
   "source": [
    "df_test.head()"
   ]
  },
  {
   "cell_type": "markdown",
   "id": "23ef4b09",
   "metadata": {
    "papermill": {
     "duration": 0.044966,
     "end_time": "2022-03-25T10:43:39.794458",
     "exception": false,
     "start_time": "2022-03-25T10:43:39.749492",
     "status": "completed"
    },
    "tags": []
   },
   "source": [
    "## Feature creation"
   ]
  },
  {
   "cell_type": "code",
   "execution_count": 8,
   "id": "6d397e08",
   "metadata": {
    "execution": {
     "iopub.execute_input": "2022-03-25T10:43:39.889421Z",
     "iopub.status.busy": "2022-03-25T10:43:39.888498Z",
     "iopub.status.idle": "2022-03-25T10:43:39.893127Z",
     "shell.execute_reply": "2022-03-25T10:43:39.893701Z",
     "shell.execute_reply.started": "2022-03-25T10:42:02.216753Z"
    },
    "papermill": {
     "duration": 0.052836,
     "end_time": "2022-03-25T10:43:39.893901",
     "exception": false,
     "start_time": "2022-03-25T10:43:39.841065",
     "status": "completed"
    },
    "tags": []
   },
   "outputs": [],
   "source": [
    "memorial_day=['1991-05-27']\n",
    "independence_day=['1991-07-04']\n",
    "labor_day=['1991-09-02']\n",
    "holidays=[memorial_day,independence_day,labor_day]"
   ]
  },
  {
   "cell_type": "code",
   "execution_count": 9,
   "id": "c1163fcf",
   "metadata": {
    "execution": {
     "iopub.execute_input": "2022-03-25T10:43:39.992378Z",
     "iopub.status.busy": "2022-03-25T10:43:39.991581Z",
     "iopub.status.idle": "2022-03-25T10:43:52.768978Z",
     "shell.execute_reply": "2022-03-25T10:43:52.769472Z",
     "shell.execute_reply.started": "2022-03-25T10:42:02.228858Z"
    },
    "papermill": {
     "duration": 12.832076,
     "end_time": "2022-03-25T10:43:52.769684",
     "exception": false,
     "start_time": "2022-03-25T10:43:39.937608",
     "status": "completed"
    },
    "tags": []
   },
   "outputs": [],
   "source": [
    "for df in [df_train,df_test]:\n",
    "    df['hour']=df['time'].dt.time\n",
    "    df['day_of_week']=df['time'].dt.dayofweek\n",
    "    df['name_day_week']=df['time'].dt.day_name()\n",
    "    df['day_of_month']=df['time'].dt.day\n",
    "    df['relative_day']=df['time'].dt.dayofyear-90\n",
    "    df['relative_month']=df['time'].dt.month-3\n",
    "    df['relative_week']=df['time'].dt.isocalendar().week-13\n",
    "    df['node']=df_train['x'].astype('str')+df_train['y'].astype('str')\n",
    "    df['road']=df['x'].astype('str')+df['y'].astype('str')+df['direction'].astype('str')\n",
    "    #df['holiday']=((df.time.dt.date.astype('str').isin(holidays))).astype('int')\n",
    "    df['memorial_day']=((df.time.dt.date.astype('str').isin(memorial_day))).astype('int')\n",
    "    df['independence_day']=((df.time.dt.date.astype('str').isin(independence_day))).astype('int')\n",
    "    df['labor_day']=((df.time.dt.date.astype('str').isin(labor_day))).astype('int')\n",
    "    \n",
    "\n",
    "# df_train=pd.concat([df_train,pd.get_dummies(df_train['road'])],axis=1)\n",
    "# df_test=pd.concat([df_test,pd.get_dummies(df_test['road'])],axis=1)"
   ]
  },
  {
   "cell_type": "code",
   "execution_count": 10,
   "id": "ce066f9e",
   "metadata": {
    "execution": {
     "iopub.execute_input": "2022-03-25T10:43:52.871956Z",
     "iopub.status.busy": "2022-03-25T10:43:52.871233Z",
     "iopub.status.idle": "2022-03-25T10:43:52.992746Z",
     "shell.execute_reply": "2022-03-25T10:43:52.993597Z",
     "shell.execute_reply.started": "2022-03-25T10:42:14.689946Z"
    },
    "papermill": {
     "duration": 0.177118,
     "end_time": "2022-03-25T10:43:52.993917",
     "exception": false,
     "start_time": "2022-03-25T10:43:52.816799",
     "status": "completed"
    },
    "tags": []
   },
   "outputs": [],
   "source": [
    "road_encoding = {k: i for i, k in enumerate(df['road'].unique(), 0) }\n",
    "        \n",
    "df_train['road_enc']=df_train['road'].map(road_encoding)\n",
    "df_test['road_enc']=df_test['road'].map(road_encoding)"
   ]
  },
  {
   "cell_type": "code",
   "execution_count": 11,
   "id": "47922681",
   "metadata": {
    "execution": {
     "iopub.execute_input": "2022-03-25T10:43:53.099067Z",
     "iopub.status.busy": "2022-03-25T10:43:53.097835Z",
     "iopub.status.idle": "2022-03-25T10:43:53.460642Z",
     "shell.execute_reply": "2022-03-25T10:43:53.460025Z",
     "shell.execute_reply.started": "2022-03-25T10:42:14.823457Z"
    },
    "papermill": {
     "duration": 0.420006,
     "end_time": "2022-03-25T10:43:53.460804",
     "exception": false,
     "start_time": "2022-03-25T10:43:53.040798",
     "status": "completed"
    },
    "tags": []
   },
   "outputs": [],
   "source": [
    "le=LabelEncoder()\n",
    "df_train['hour_enc']=le.fit_transform(df_train['hour'])\n",
    "df_test['hour_enc']=le.transform(df_test['hour'])"
   ]
  },
  {
   "cell_type": "code",
   "execution_count": 12,
   "id": "a26c8604",
   "metadata": {
    "execution": {
     "iopub.execute_input": "2022-03-25T10:43:53.608526Z",
     "iopub.status.busy": "2022-03-25T10:43:53.603439Z",
     "iopub.status.idle": "2022-03-25T10:43:53.823404Z",
     "shell.execute_reply": "2022-03-25T10:43:53.822773Z",
     "shell.execute_reply.started": "2022-03-25T10:42:15.181744Z"
    },
    "papermill": {
     "duration": 0.313274,
     "end_time": "2022-03-25T10:43:53.823577",
     "exception": false,
     "start_time": "2022-03-25T10:43:53.510303",
     "status": "completed"
    },
    "tags": []
   },
   "outputs": [],
   "source": [
    "le2=LabelEncoder()\n",
    "df_train['direction_enc']=le2.fit_transform(df_train['direction'])\n",
    "df_test['direction_enc']=le2.transform(df_test['direction'])"
   ]
  },
  {
   "cell_type": "code",
   "execution_count": 13,
   "id": "112ca986",
   "metadata": {
    "execution": {
     "iopub.execute_input": "2022-03-25T10:43:53.926635Z",
     "iopub.status.busy": "2022-03-25T10:43:53.923336Z",
     "iopub.status.idle": "2022-03-25T10:43:53.947937Z",
     "shell.execute_reply": "2022-03-25T10:43:53.948461Z",
     "shell.execute_reply.started": "2022-03-25T10:42:15.459195Z"
    },
    "papermill": {
     "duration": 0.078409,
     "end_time": "2022-03-25T10:43:53.948664",
     "exception": false,
     "start_time": "2022-03-25T10:43:53.870255",
     "status": "completed"
    },
    "tags": []
   },
   "outputs": [
    {
     "data": {
      "text/html": [
       "<div>\n",
       "<style scoped>\n",
       "    .dataframe tbody tr th:only-of-type {\n",
       "        vertical-align: middle;\n",
       "    }\n",
       "\n",
       "    .dataframe tbody tr th {\n",
       "        vertical-align: top;\n",
       "    }\n",
       "\n",
       "    .dataframe thead th {\n",
       "        text-align: right;\n",
       "    }\n",
       "</style>\n",
       "<table border=\"1\" class=\"dataframe\">\n",
       "  <thead>\n",
       "    <tr style=\"text-align: right;\">\n",
       "      <th></th>\n",
       "      <th>row_id</th>\n",
       "      <th>time</th>\n",
       "      <th>x</th>\n",
       "      <th>y</th>\n",
       "      <th>direction</th>\n",
       "      <th>congestion</th>\n",
       "      <th>hour</th>\n",
       "      <th>day_of_week</th>\n",
       "      <th>name_day_week</th>\n",
       "      <th>day_of_month</th>\n",
       "      <th>...</th>\n",
       "      <th>relative_month</th>\n",
       "      <th>relative_week</th>\n",
       "      <th>node</th>\n",
       "      <th>road</th>\n",
       "      <th>memorial_day</th>\n",
       "      <th>independence_day</th>\n",
       "      <th>labor_day</th>\n",
       "      <th>road_enc</th>\n",
       "      <th>hour_enc</th>\n",
       "      <th>direction_enc</th>\n",
       "    </tr>\n",
       "  </thead>\n",
       "  <tbody>\n",
       "    <tr>\n",
       "      <th>0</th>\n",
       "      <td>0</td>\n",
       "      <td>1991-04-01</td>\n",
       "      <td>0</td>\n",
       "      <td>0</td>\n",
       "      <td>EB</td>\n",
       "      <td>70</td>\n",
       "      <td>00:00:00</td>\n",
       "      <td>0</td>\n",
       "      <td>Monday</td>\n",
       "      <td>1</td>\n",
       "      <td>...</td>\n",
       "      <td>1</td>\n",
       "      <td>1</td>\n",
       "      <td>00</td>\n",
       "      <td>00EB</td>\n",
       "      <td>0</td>\n",
       "      <td>0</td>\n",
       "      <td>0</td>\n",
       "      <td>0</td>\n",
       "      <td>0</td>\n",
       "      <td>0</td>\n",
       "    </tr>\n",
       "    <tr>\n",
       "      <th>1</th>\n",
       "      <td>1</td>\n",
       "      <td>1991-04-01</td>\n",
       "      <td>0</td>\n",
       "      <td>0</td>\n",
       "      <td>NB</td>\n",
       "      <td>49</td>\n",
       "      <td>00:00:00</td>\n",
       "      <td>0</td>\n",
       "      <td>Monday</td>\n",
       "      <td>1</td>\n",
       "      <td>...</td>\n",
       "      <td>1</td>\n",
       "      <td>1</td>\n",
       "      <td>00</td>\n",
       "      <td>00NB</td>\n",
       "      <td>0</td>\n",
       "      <td>0</td>\n",
       "      <td>0</td>\n",
       "      <td>1</td>\n",
       "      <td>0</td>\n",
       "      <td>1</td>\n",
       "    </tr>\n",
       "    <tr>\n",
       "      <th>2</th>\n",
       "      <td>2</td>\n",
       "      <td>1991-04-01</td>\n",
       "      <td>0</td>\n",
       "      <td>0</td>\n",
       "      <td>SB</td>\n",
       "      <td>24</td>\n",
       "      <td>00:00:00</td>\n",
       "      <td>0</td>\n",
       "      <td>Monday</td>\n",
       "      <td>1</td>\n",
       "      <td>...</td>\n",
       "      <td>1</td>\n",
       "      <td>1</td>\n",
       "      <td>00</td>\n",
       "      <td>00SB</td>\n",
       "      <td>0</td>\n",
       "      <td>0</td>\n",
       "      <td>0</td>\n",
       "      <td>2</td>\n",
       "      <td>0</td>\n",
       "      <td>4</td>\n",
       "    </tr>\n",
       "    <tr>\n",
       "      <th>3</th>\n",
       "      <td>3</td>\n",
       "      <td>1991-04-01</td>\n",
       "      <td>0</td>\n",
       "      <td>1</td>\n",
       "      <td>EB</td>\n",
       "      <td>18</td>\n",
       "      <td>00:00:00</td>\n",
       "      <td>0</td>\n",
       "      <td>Monday</td>\n",
       "      <td>1</td>\n",
       "      <td>...</td>\n",
       "      <td>1</td>\n",
       "      <td>1</td>\n",
       "      <td>01</td>\n",
       "      <td>01EB</td>\n",
       "      <td>0</td>\n",
       "      <td>0</td>\n",
       "      <td>0</td>\n",
       "      <td>3</td>\n",
       "      <td>0</td>\n",
       "      <td>0</td>\n",
       "    </tr>\n",
       "    <tr>\n",
       "      <th>4</th>\n",
       "      <td>4</td>\n",
       "      <td>1991-04-01</td>\n",
       "      <td>0</td>\n",
       "      <td>1</td>\n",
       "      <td>NB</td>\n",
       "      <td>60</td>\n",
       "      <td>00:00:00</td>\n",
       "      <td>0</td>\n",
       "      <td>Monday</td>\n",
       "      <td>1</td>\n",
       "      <td>...</td>\n",
       "      <td>1</td>\n",
       "      <td>1</td>\n",
       "      <td>01</td>\n",
       "      <td>01NB</td>\n",
       "      <td>0</td>\n",
       "      <td>0</td>\n",
       "      <td>0</td>\n",
       "      <td>4</td>\n",
       "      <td>0</td>\n",
       "      <td>1</td>\n",
       "    </tr>\n",
       "  </tbody>\n",
       "</table>\n",
       "<p>5 rows × 21 columns</p>\n",
       "</div>"
      ],
      "text/plain": [
       "   row_id       time  x  y direction  congestion      hour  day_of_week  \\\n",
       "0       0 1991-04-01  0  0        EB          70  00:00:00            0   \n",
       "1       1 1991-04-01  0  0        NB          49  00:00:00            0   \n",
       "2       2 1991-04-01  0  0        SB          24  00:00:00            0   \n",
       "3       3 1991-04-01  0  1        EB          18  00:00:00            0   \n",
       "4       4 1991-04-01  0  1        NB          60  00:00:00            0   \n",
       "\n",
       "  name_day_week  day_of_month  ...  relative_month  relative_week  node  road  \\\n",
       "0        Monday             1  ...               1              1    00  00EB   \n",
       "1        Monday             1  ...               1              1    00  00NB   \n",
       "2        Monday             1  ...               1              1    00  00SB   \n",
       "3        Monday             1  ...               1              1    01  01EB   \n",
       "4        Monday             1  ...               1              1    01  01NB   \n",
       "\n",
       "  memorial_day  independence_day  labor_day  road_enc  hour_enc  direction_enc  \n",
       "0            0                 0          0         0         0              0  \n",
       "1            0                 0          0         1         0              1  \n",
       "2            0                 0          0         2         0              4  \n",
       "3            0                 0          0         3         0              0  \n",
       "4            0                 0          0         4         0              1  \n",
       "\n",
       "[5 rows x 21 columns]"
      ]
     },
     "execution_count": 13,
     "metadata": {},
     "output_type": "execute_result"
    }
   ],
   "source": [
    "df_train.head()"
   ]
  },
  {
   "cell_type": "code",
   "execution_count": 14,
   "id": "6d8ad97f",
   "metadata": {
    "execution": {
     "iopub.execute_input": "2022-03-25T10:43:54.057943Z",
     "iopub.status.busy": "2022-03-25T10:43:54.056973Z",
     "iopub.status.idle": "2022-03-25T10:43:54.061687Z",
     "shell.execute_reply": "2022-03-25T10:43:54.061158Z",
     "shell.execute_reply.started": "2022-03-25T10:42:15.489799Z"
    },
    "papermill": {
     "duration": 0.0675,
     "end_time": "2022-03-25T10:43:54.061838",
     "exception": false,
     "start_time": "2022-03-25T10:43:53.994338",
     "status": "completed"
    },
    "tags": []
   },
   "outputs": [
    {
     "data": {
      "text/html": [
       "<div>\n",
       "<style scoped>\n",
       "    .dataframe tbody tr th:only-of-type {\n",
       "        vertical-align: middle;\n",
       "    }\n",
       "\n",
       "    .dataframe tbody tr th {\n",
       "        vertical-align: top;\n",
       "    }\n",
       "\n",
       "    .dataframe thead th {\n",
       "        text-align: right;\n",
       "    }\n",
       "</style>\n",
       "<table border=\"1\" class=\"dataframe\">\n",
       "  <thead>\n",
       "    <tr style=\"text-align: right;\">\n",
       "      <th></th>\n",
       "      <th>row_id</th>\n",
       "      <th>time</th>\n",
       "      <th>x</th>\n",
       "      <th>y</th>\n",
       "      <th>direction</th>\n",
       "      <th>hour</th>\n",
       "      <th>day_of_week</th>\n",
       "      <th>name_day_week</th>\n",
       "      <th>day_of_month</th>\n",
       "      <th>relative_day</th>\n",
       "      <th>relative_month</th>\n",
       "      <th>relative_week</th>\n",
       "      <th>node</th>\n",
       "      <th>road</th>\n",
       "      <th>memorial_day</th>\n",
       "      <th>independence_day</th>\n",
       "      <th>labor_day</th>\n",
       "      <th>road_enc</th>\n",
       "      <th>hour_enc</th>\n",
       "      <th>direction_enc</th>\n",
       "    </tr>\n",
       "  </thead>\n",
       "  <tbody>\n",
       "    <tr>\n",
       "      <th>0</th>\n",
       "      <td>848835</td>\n",
       "      <td>1991-09-30 12:00:00</td>\n",
       "      <td>0</td>\n",
       "      <td>0</td>\n",
       "      <td>EB</td>\n",
       "      <td>12:00:00</td>\n",
       "      <td>0</td>\n",
       "      <td>Monday</td>\n",
       "      <td>30</td>\n",
       "      <td>183</td>\n",
       "      <td>6</td>\n",
       "      <td>27</td>\n",
       "      <td>00</td>\n",
       "      <td>00EB</td>\n",
       "      <td>0</td>\n",
       "      <td>0</td>\n",
       "      <td>0</td>\n",
       "      <td>0</td>\n",
       "      <td>36</td>\n",
       "      <td>0</td>\n",
       "    </tr>\n",
       "    <tr>\n",
       "      <th>1</th>\n",
       "      <td>848836</td>\n",
       "      <td>1991-09-30 12:00:00</td>\n",
       "      <td>0</td>\n",
       "      <td>0</td>\n",
       "      <td>NB</td>\n",
       "      <td>12:00:00</td>\n",
       "      <td>0</td>\n",
       "      <td>Monday</td>\n",
       "      <td>30</td>\n",
       "      <td>183</td>\n",
       "      <td>6</td>\n",
       "      <td>27</td>\n",
       "      <td>00</td>\n",
       "      <td>00NB</td>\n",
       "      <td>0</td>\n",
       "      <td>0</td>\n",
       "      <td>0</td>\n",
       "      <td>1</td>\n",
       "      <td>36</td>\n",
       "      <td>1</td>\n",
       "    </tr>\n",
       "    <tr>\n",
       "      <th>2</th>\n",
       "      <td>848837</td>\n",
       "      <td>1991-09-30 12:00:00</td>\n",
       "      <td>0</td>\n",
       "      <td>0</td>\n",
       "      <td>SB</td>\n",
       "      <td>12:00:00</td>\n",
       "      <td>0</td>\n",
       "      <td>Monday</td>\n",
       "      <td>30</td>\n",
       "      <td>183</td>\n",
       "      <td>6</td>\n",
       "      <td>27</td>\n",
       "      <td>00</td>\n",
       "      <td>00SB</td>\n",
       "      <td>0</td>\n",
       "      <td>0</td>\n",
       "      <td>0</td>\n",
       "      <td>2</td>\n",
       "      <td>36</td>\n",
       "      <td>4</td>\n",
       "    </tr>\n",
       "    <tr>\n",
       "      <th>3</th>\n",
       "      <td>848838</td>\n",
       "      <td>1991-09-30 12:00:00</td>\n",
       "      <td>0</td>\n",
       "      <td>1</td>\n",
       "      <td>EB</td>\n",
       "      <td>12:00:00</td>\n",
       "      <td>0</td>\n",
       "      <td>Monday</td>\n",
       "      <td>30</td>\n",
       "      <td>183</td>\n",
       "      <td>6</td>\n",
       "      <td>27</td>\n",
       "      <td>01</td>\n",
       "      <td>01EB</td>\n",
       "      <td>0</td>\n",
       "      <td>0</td>\n",
       "      <td>0</td>\n",
       "      <td>3</td>\n",
       "      <td>36</td>\n",
       "      <td>0</td>\n",
       "    </tr>\n",
       "    <tr>\n",
       "      <th>4</th>\n",
       "      <td>848839</td>\n",
       "      <td>1991-09-30 12:00:00</td>\n",
       "      <td>0</td>\n",
       "      <td>1</td>\n",
       "      <td>NB</td>\n",
       "      <td>12:00:00</td>\n",
       "      <td>0</td>\n",
       "      <td>Monday</td>\n",
       "      <td>30</td>\n",
       "      <td>183</td>\n",
       "      <td>6</td>\n",
       "      <td>27</td>\n",
       "      <td>01</td>\n",
       "      <td>01NB</td>\n",
       "      <td>0</td>\n",
       "      <td>0</td>\n",
       "      <td>0</td>\n",
       "      <td>4</td>\n",
       "      <td>36</td>\n",
       "      <td>1</td>\n",
       "    </tr>\n",
       "  </tbody>\n",
       "</table>\n",
       "</div>"
      ],
      "text/plain": [
       "   row_id                time  x  y direction      hour  day_of_week  \\\n",
       "0  848835 1991-09-30 12:00:00  0  0        EB  12:00:00            0   \n",
       "1  848836 1991-09-30 12:00:00  0  0        NB  12:00:00            0   \n",
       "2  848837 1991-09-30 12:00:00  0  0        SB  12:00:00            0   \n",
       "3  848838 1991-09-30 12:00:00  0  1        EB  12:00:00            0   \n",
       "4  848839 1991-09-30 12:00:00  0  1        NB  12:00:00            0   \n",
       "\n",
       "  name_day_week  day_of_month  relative_day  relative_month  relative_week  \\\n",
       "0        Monday            30           183               6             27   \n",
       "1        Monday            30           183               6             27   \n",
       "2        Monday            30           183               6             27   \n",
       "3        Monday            30           183               6             27   \n",
       "4        Monday            30           183               6             27   \n",
       "\n",
       "  node  road  memorial_day  independence_day  labor_day  road_enc  hour_enc  \\\n",
       "0   00  00EB             0                 0          0         0        36   \n",
       "1   00  00NB             0                 0          0         1        36   \n",
       "2   00  00SB             0                 0          0         2        36   \n",
       "3   01  01EB             0                 0          0         3        36   \n",
       "4   01  01NB             0                 0          0         4        36   \n",
       "\n",
       "   direction_enc  \n",
       "0              0  \n",
       "1              1  \n",
       "2              4  \n",
       "3              0  \n",
       "4              1  "
      ]
     },
     "execution_count": 14,
     "metadata": {},
     "output_type": "execute_result"
    }
   ],
   "source": [
    "df_test.head()"
   ]
  },
  {
   "cell_type": "markdown",
   "id": "0c661cfb",
   "metadata": {
    "papermill": {
     "duration": 0.044674,
     "end_time": "2022-03-25T10:43:54.151414",
     "exception": false,
     "start_time": "2022-03-25T10:43:54.106740",
     "status": "completed"
    },
    "tags": []
   },
   "source": [
    "## Feature Engineering"
   ]
  },
  {
   "cell_type": "code",
   "execution_count": 15,
   "id": "6ac8ea78",
   "metadata": {
    "execution": {
     "iopub.execute_input": "2022-03-25T10:43:54.247300Z",
     "iopub.status.busy": "2022-03-25T10:43:54.246398Z",
     "iopub.status.idle": "2022-03-25T10:43:54.250843Z",
     "shell.execute_reply": "2022-03-25T10:43:54.250209Z",
     "shell.execute_reply.started": "2022-03-25T10:42:15.512954Z"
    },
    "papermill": {
     "duration": 0.054171,
     "end_time": "2022-03-25T10:43:54.251021",
     "exception": false,
     "start_time": "2022-03-25T10:43:54.196850",
     "status": "completed"
    },
    "tags": []
   },
   "outputs": [
    {
     "data": {
      "text/plain": [
       "2340"
      ]
     },
     "execution_count": 15,
     "metadata": {},
     "output_type": "execute_result"
    }
   ],
   "source": [
    "12*3*65\n",
    "#12 hours * 3 measures/hour * 65 roads"
   ]
  },
  {
   "cell_type": "code",
   "execution_count": 16,
   "id": "5038102e",
   "metadata": {
    "execution": {
     "iopub.execute_input": "2022-03-25T10:43:54.348921Z",
     "iopub.status.busy": "2022-03-25T10:43:54.348255Z",
     "iopub.status.idle": "2022-03-25T10:43:54.350977Z",
     "shell.execute_reply": "2022-03-25T10:43:54.351467Z",
     "shell.execute_reply.started": "2022-03-25T10:42:15.525922Z"
    },
    "papermill": {
     "duration": 0.054138,
     "end_time": "2022-03-25T10:43:54.351656",
     "exception": false,
     "start_time": "2022-03-25T10:43:54.297518",
     "status": "completed"
    },
    "tags": []
   },
   "outputs": [
    {
     "data": {
      "text/plain": [
       "['row_id',\n",
       " 'time',\n",
       " 'x',\n",
       " 'y',\n",
       " 'direction',\n",
       " 'congestion',\n",
       " 'hour',\n",
       " 'day_of_week',\n",
       " 'name_day_week',\n",
       " 'day_of_month',\n",
       " 'relative_day',\n",
       " 'relative_month',\n",
       " 'relative_week',\n",
       " 'node',\n",
       " 'road',\n",
       " 'memorial_day',\n",
       " 'independence_day',\n",
       " 'labor_day',\n",
       " 'road_enc',\n",
       " 'hour_enc',\n",
       " 'direction_enc']"
      ]
     },
     "execution_count": 16,
     "metadata": {},
     "output_type": "execute_result"
    }
   ],
   "source": [
    "df_train.columns.to_list()"
   ]
  },
  {
   "cell_type": "code",
   "execution_count": 17,
   "id": "95700252",
   "metadata": {
    "execution": {
     "iopub.execute_input": "2022-03-25T10:43:54.458214Z",
     "iopub.status.busy": "2022-03-25T10:43:54.457134Z",
     "iopub.status.idle": "2022-03-25T10:43:54.463340Z",
     "shell.execute_reply": "2022-03-25T10:43:54.463956Z",
     "shell.execute_reply.started": "2022-03-25T10:42:15.541736Z"
    },
    "papermill": {
     "duration": 0.059496,
     "end_time": "2022-03-25T10:43:54.464149",
     "exception": false,
     "start_time": "2022-03-25T10:43:54.404653",
     "status": "completed"
    },
    "tags": []
   },
   "outputs": [],
   "source": [
    "features = [\n",
    "# 'row_id',\n",
    "# 'time',\n",
    "# 'x',\n",
    "# 'y',\n",
    "# 'direction',\n",
    "# 'congestion',\n",
    "# 'hour',\n",
    "'day_of_week',\n",
    "# 'day_of_month',\n",
    "# 'relative_day',\n",
    "# 'relative_month',\n",
    "# 'relative_week',\n",
    "# 'road',\n",
    "'memorial_day',\n",
    "'independence_day',\n",
    "'labor_day',\n",
    "'road_enc',\n",
    "'hour_enc',\n",
    "#'direction_enc'\n",
    "]"
   ]
  },
  {
   "cell_type": "code",
   "execution_count": 18,
   "id": "d4cac4f8",
   "metadata": {
    "execution": {
     "iopub.execute_input": "2022-03-25T10:43:54.567638Z",
     "iopub.status.busy": "2022-03-25T10:43:54.566620Z",
     "iopub.status.idle": "2022-03-25T10:43:55.258791Z",
     "shell.execute_reply": "2022-03-25T10:43:55.259351Z",
     "shell.execute_reply.started": "2022-03-25T10:42:15.557846Z"
    },
    "papermill": {
     "duration": 0.744621,
     "end_time": "2022-03-25T10:43:55.259535",
     "exception": false,
     "start_time": "2022-03-25T10:43:54.514914",
     "status": "completed"
    },
    "tags": []
   },
   "outputs": [
    {
     "name": "stdout",
     "output_type": "stream",
     "text": [
      "Dates train      : 1991-04-01 00:00:00 --- 1991-08-24 11:40:00  (n=678925)\n",
      "Dates validacion : 1991-08-24 12:00:00 --- 1991-09-30 11:40:00  (n=169910)\n",
      "Dates test       : 1991-09-30 12:00:00 --- 1991-09-30 23:40:00  (n=2340)\n"
     ]
    }
   ],
   "source": [
    "end_train = '1991-08-24 12:00:00'\n",
    "end_validation = '1991-09-30 11:40:00'\n",
    "X_train = df_train.loc[df_train.time<end_train, features+['time']].set_index('time')\n",
    "y_train = df_train.loc[df_train.time<end_train, ['congestion','time']].set_index('time')\n",
    "\n",
    "X_valid = df_train.loc[df_train.time>=end_train, features+['time']].set_index('time')\n",
    "y_valid = df_train.loc[df_train.time>=end_train, ['congestion','time']].set_index('time')\n",
    "\n",
    "X_test = df_test.loc[:,features+['time']].set_index('time')\n",
    "\n",
    "print(f\"Dates train      : {X_train.index.min()} --- {X_train.index.max()}  (n={len(X_train)})\")\n",
    "print(f\"Dates validacion : {X_valid.index.min()} --- {X_valid.index.max()}  (n={len(X_valid)})\")\n",
    "print(f\"Dates test       : {X_test.index.min()} --- {X_test.index.max()}  (n={len(X_test)})\")"
   ]
  },
  {
   "cell_type": "code",
   "execution_count": 19,
   "id": "263b64c6",
   "metadata": {
    "execution": {
     "iopub.execute_input": "2022-03-25T10:43:55.359213Z",
     "iopub.status.busy": "2022-03-25T10:43:55.358193Z",
     "iopub.status.idle": "2022-03-25T10:43:55.360734Z",
     "shell.execute_reply": "2022-03-25T10:43:55.361376Z",
     "shell.execute_reply.started": "2022-03-25T10:42:16.150459Z"
    },
    "papermill": {
     "duration": 0.055547,
     "end_time": "2022-03-25T10:43:55.361572",
     "exception": false,
     "start_time": "2022-03-25T10:43:55.306025",
     "status": "completed"
    },
    "tags": []
   },
   "outputs": [],
   "source": [
    "# end_train = '1991-08-24 12:00:00'\n",
    "# end_validation = '1991-09-30 11:40:00'\n",
    "# X_train = df_train.loc[df_train.time<end_train, features+['time']].set_index('time')\n",
    "# y_train = df_train.loc[df_train.time<end_train, ['congestion','time']].set_index('time')\n",
    "# X_valid = df_train.loc[df_train.time>=end_train, features+['time']].set_index('time')\n",
    "# y_valid = df_train.loc[df_train.time>=end_train, ['congestion','time']].set_index('time')\n",
    "\n",
    "# X_test = df_test.loc[:,features+['time']].set_index('time')\n",
    "\n",
    "# print(f\"Dates train      : {X_train.index.min()} --- {X_train.index.max()}  (n={len(X_train)})\")\n",
    "# print(f\"Dates validacion : {X_valid.index.min()} --- {X_valid.index.max()}  (n={len(X_valid)})\")\n",
    "# print(f\"Dates test       : {X_test.index.min()} --- {X_test.index.max()}  (n={len(X_test)})\")\n",
    "\n",
    "\n",
    "# regressor = RandomForestRegressor(n_estimators=100, random_state=0)\n",
    "# # regressor = DecisionTreeRegressor(random_state=0)\n",
    "\n",
    "# regressor.fit(X_train, y_train)\n",
    "# print(\"Valid-set R^2: {:.2f}\".format(regressor.score(X_valid, y_valid)))\n",
    "\n",
    "# y_pred_valid = regressor.predict(X_valid)\n",
    "# print(\"Valid-set MAE: {:.2f}\".format(mean_absolute_error(y_valid,y_pred_valid)))\n",
    "\n",
    "# y_pred_train = regressor.predict(X_train)\n",
    "# df_pred_train=pd.DataFrame({'time':X_train.index,'predictions':regressor.predict(X_train)})\n",
    "# df_pred_valid=pd.DataFrame({'time':X_valid.index,'predictions':regressor.predict(X_valid)})"
   ]
  },
  {
   "cell_type": "code",
   "execution_count": 20,
   "id": "93971872",
   "metadata": {
    "execution": {
     "iopub.execute_input": "2022-03-25T10:43:55.456141Z",
     "iopub.status.busy": "2022-03-25T10:43:55.455139Z",
     "iopub.status.idle": "2022-03-25T10:43:55.458555Z",
     "shell.execute_reply": "2022-03-25T10:43:55.459166Z",
     "shell.execute_reply.started": "2022-03-25T10:42:16.159994Z"
    },
    "papermill": {
     "duration": 0.052372,
     "end_time": "2022-03-25T10:43:55.459347",
     "exception": false,
     "start_time": "2022-03-25T10:43:55.406975",
     "status": "completed"
    },
    "tags": []
   },
   "outputs": [],
   "source": [
    "# df_pred_train=pd.DataFrame({'time':X_train.index,'predictions':regressor.predict(X_train)})\n",
    "# df_pred_valid=pd.DataFrame({'time':X_valid.index,'predictions':regressor.predict(X_valid)})\n",
    "# df_pred_train.groupby('time')['predictions'].mean().values"
   ]
  },
  {
   "cell_type": "code",
   "execution_count": 21,
   "id": "160b495e",
   "metadata": {
    "execution": {
     "iopub.execute_input": "2022-03-25T10:43:55.553966Z",
     "iopub.status.busy": "2022-03-25T10:43:55.552966Z",
     "iopub.status.idle": "2022-03-25T10:43:55.557814Z",
     "shell.execute_reply": "2022-03-25T10:43:55.558409Z",
     "shell.execute_reply.started": "2022-03-25T10:42:16.178536Z"
    },
    "papermill": {
     "duration": 0.05367,
     "end_time": "2022-03-25T10:43:55.558592",
     "exception": false,
     "start_time": "2022-03-25T10:43:55.504922",
     "status": "completed"
    },
    "tags": []
   },
   "outputs": [],
   "source": [
    "# plt.figure()\n",
    "\n",
    "# nb_readings_day=24*3 #number of readings per day for each of the 65 roads #24 hours * 3 readings/hour\n",
    "# nb_train_days_to_show=nb_readings_day*14\n",
    "# nb_valid_days_to_show=nb_readings_day*14\n",
    "\n",
    "# n_train=len(X_train.index.unique()) #number of different times in train. Ex of time format: 1991-04-01 00:00:00\n",
    "# n_valid=len(X_valid.index.unique()) #number of different times in valid  Ex of time format: 1991-08-24 12:00:00\n",
    "\n",
    "# y_train_mean=y_train.reset_index().groupby('time').mean()\n",
    "# y_valid_mean=y_valid.reset_index().groupby('time').mean()\n",
    "\n",
    "# y_train_pred_mean=df_pred_train.groupby('time')['predictions'].mean().values\n",
    "# y_valid_pred_mean=df_pred_valid.groupby('time')['predictions'].mean().values\n",
    "\n",
    "# plt.figure(figsize=(14, 10))\n",
    "# xticks = pd.date_range(start=df_train.time.min(), end=df_train.time.max(),freq='D')[-nb_train_days_to_show:]\n",
    "\n",
    "# plt.xticks(range(0, n_train+n_valid+nb_readings_day,nb_readings_day)[-nb_train_days_to_show:], xticks.strftime(\"%a %m-%d\"), rotation=90,ha=\"left\")\n",
    "# plt.plot(range(n_train)[-nb_train_days_to_show:], y_train_mean[-nb_train_days_to_show:], label=\"train\")\n",
    "# plt.plot(range(n_train, n_train+n_valid)[:nb_valid_days_to_show], y_valid_mean[:nb_valid_days_to_show], '-', label=\"valid\")\n",
    "# plt.plot(range(n_train)[-nb_train_days_to_show:], y_train_pred_mean[-nb_train_days_to_show:], '--', color='lightgreen',label=\"prediction train\",alpha=1)\n",
    "# plt.plot(range(n_train, n_train+n_valid)[:nb_valid_days_to_show], y_valid_pred_mean[:nb_valid_days_to_show],'--',color='lightgreen',label=\"prediction valid\",alpha=1)\n",
    "# plt.legend(loc=(1.01, 0))\n",
    "# plt.xlabel(\"Date\")\n",
    "# plt.ylabel(\"Congestion\")"
   ]
  },
  {
   "cell_type": "code",
   "execution_count": 22,
   "id": "636f43f2",
   "metadata": {
    "execution": {
     "iopub.execute_input": "2022-03-25T10:43:55.653005Z",
     "iopub.status.busy": "2022-03-25T10:43:55.651999Z",
     "iopub.status.idle": "2022-03-25T10:43:55.671812Z",
     "shell.execute_reply": "2022-03-25T10:43:55.672468Z",
     "shell.execute_reply.started": "2022-03-25T10:42:16.193942Z"
    },
    "papermill": {
     "duration": 0.06873,
     "end_time": "2022-03-25T10:43:55.672642",
     "exception": false,
     "start_time": "2022-03-25T10:43:55.603912",
     "status": "completed"
    },
    "tags": []
   },
   "outputs": [],
   "source": [
    "end_train = '1991-08-24 12:00:00'\n",
    "end_validation = '1991-09-30 11:40:00'\n",
    "# function to evaluate and plot a regressor on a given feature set\n",
    "\n",
    "def eval_on_features(train, features, regressor):\n",
    "# split the given features into a training and a test set\n",
    "    \n",
    "    X_train = train.loc[train.time<end_train, features].set_index('time')\n",
    "    y_train = train.loc[train.time<end_train, ['congestion','time']].set_index('time')\n",
    "    X_valid = train.loc[train.time>=end_train, features].set_index('time')\n",
    "    y_valid = train.loc[train.time>=end_train, ['congestion','time']].set_index('time')\n",
    "\n",
    "#     X_test = df_test.loc[:,features+['time']].set_index('time')\n",
    "\n",
    "    print(f\"Dates train      : {X_train.index.min()} --- {X_train.index.max()}  (n={len(X_train)})\")\n",
    "    print(f\"Dates validacion : {X_valid.index.min()} --- {X_valid.index.max()}  (n={len(X_valid)}) \\n\")\n",
    "#     print(f\"Dates test       : {X_test.index.min()} --- {X_test.index.max()}  (n={len(X_test)})\")\n",
    "\n",
    "\n",
    "    regressor = RandomForestRegressor(n_estimators=100, random_state=0)\n",
    "    # regressor = DecisionTreeRegressor(random_state=0)\n",
    "\n",
    "    regressor.fit(X_train, y_train)\n",
    "    print(\"Valid-set R^2: {:.2f}\".format(regressor.score(X_valid, y_valid)))\n",
    "\n",
    "    y_pred_valid = regressor.predict(X_valid)\n",
    "    print(\"Valid-set MAE: {:.2f}\".format(mean_absolute_error(y_valid,y_pred_valid)))\n",
    "\n",
    "    y_pred_train = regressor.predict(X_train)\n",
    "    df_pred_train=pd.DataFrame({'time':X_train.index,'predictions':regressor.predict(X_train)})\n",
    "    df_pred_valid=pd.DataFrame({'time':X_valid.index,'predictions':regressor.predict(X_valid)})\n",
    "\n",
    "    plt.figure()\n",
    "\n",
    "    nb_readings_day=24*3 #number of readings per day for each of the 65 roads #24 hours * 3 readings/hour\n",
    "    nb_train_days_to_show=nb_readings_day*14\n",
    "    nb_valid_days_to_show=nb_readings_day*14\n",
    "\n",
    "    n_train=len(X_train.index.unique()) #number of different times in train. Ex of time format: 1991-04-01 00:00:00\n",
    "    n_valid=len(X_valid.index.unique()) #number of different times in valid  Ex of time format: 1991-08-24 12:00:00\n",
    "\n",
    "    y_train_mean=y_train.reset_index().groupby('time').mean()\n",
    "    y_valid_mean=y_valid.reset_index().groupby('time').mean()\n",
    "\n",
    "    y_train_pred_mean=df_pred_train.groupby('time')['predictions'].mean().values\n",
    "    y_valid_pred_mean=df_pred_valid.groupby('time')['predictions'].mean().values\n",
    "\n",
    "    plt.figure(figsize=(14, 10))\n",
    "    xticks = pd.date_range(start=df_train.time.min(), end=df_train.time.max(),freq='D')[-nb_train_days_to_show:]\n",
    "\n",
    "    plt.xticks(range(0, n_train+n_valid+nb_readings_day,nb_readings_day)[-nb_train_days_to_show:], xticks.strftime(\"%a %m-%d\"), rotation=90,ha=\"left\")\n",
    "    plt.plot(range(n_train)[-nb_train_days_to_show:], y_train_mean[-nb_train_days_to_show:], label=\"train\")\n",
    "    plt.plot(range(n_train, n_train+n_valid)[:nb_valid_days_to_show], y_valid_mean[:nb_valid_days_to_show], '-', label=\"valid\")\n",
    "    plt.plot(range(n_train)[-nb_train_days_to_show:], y_train_pred_mean[-nb_train_days_to_show:], '--', color='lightgreen',label=\"prediction train\",alpha=1)\n",
    "    plt.plot(range(n_train, n_train+n_valid)[:nb_valid_days_to_show], y_valid_pred_mean[:nb_valid_days_to_show],'--',color='lightgreen',label=\"prediction valid\",alpha=1)\n",
    "    plt.legend(loc=(1.01, 0))\n",
    "    plt.xlabel(\"Date\")\n",
    "    plt.ylabel(\"Congestion\")"
   ]
  },
  {
   "cell_type": "code",
   "execution_count": 23,
   "id": "61ef2ad4",
   "metadata": {
    "execution": {
     "iopub.execute_input": "2022-03-25T10:43:55.769002Z",
     "iopub.status.busy": "2022-03-25T10:43:55.768014Z",
     "iopub.status.idle": "2022-03-25T10:43:55.772677Z",
     "shell.execute_reply": "2022-03-25T10:43:55.773342Z",
     "shell.execute_reply.started": "2022-03-25T10:42:16.217515Z"
    },
    "papermill": {
     "duration": 0.054438,
     "end_time": "2022-03-25T10:43:55.773527",
     "exception": false,
     "start_time": "2022-03-25T10:43:55.719089",
     "status": "completed"
    },
    "tags": []
   },
   "outputs": [],
   "source": [
    "features = [\n",
    "# 'row_id',\n",
    "'time',\n",
    "#'x',\n",
    "# 'y',\n",
    "# 'direction',\n",
    "# 'congestion',\n",
    "# 'hour',\n",
    "'day_of_week',\n",
    "#'day_of_month',\n",
    "#relative_day',\n",
    "# 'relative_month',\n",
    "# 'relative_week',\n",
    "# 'road',\n",
    "'memorial_day',\n",
    "'independence_day',\n",
    "'labor_day',\n",
    "'road_enc',\n",
    "'hour_enc',\n",
    "#'direction_enc'\n",
    "]"
   ]
  },
  {
   "cell_type": "markdown",
   "id": "60f5c80d",
   "metadata": {
    "papermill": {
     "duration": 0.046197,
     "end_time": "2022-03-25T10:43:55.865435",
     "exception": false,
     "start_time": "2022-03-25T10:43:55.819238",
     "status": "completed"
    },
    "tags": []
   },
   "source": [
    "## Decision Tree"
   ]
  },
  {
   "cell_type": "code",
   "execution_count": 24,
   "id": "d9c4cb7d",
   "metadata": {
    "execution": {
     "iopub.execute_input": "2022-03-25T10:43:55.960959Z",
     "iopub.status.busy": "2022-03-25T10:43:55.959966Z",
     "iopub.status.idle": "2022-03-25T10:43:55.963493Z",
     "shell.execute_reply": "2022-03-25T10:43:55.964106Z",
     "shell.execute_reply.started": "2022-03-25T10:42:16.236026Z"
    },
    "papermill": {
     "duration": 0.052821,
     "end_time": "2022-03-25T10:43:55.964282",
     "exception": false,
     "start_time": "2022-03-25T10:43:55.911461",
     "status": "completed"
    },
    "tags": []
   },
   "outputs": [],
   "source": [
    "# from sklearn.tree import DecisionTreeRegressor\n",
    "# regressor = DecisionTreeRegressor(random_state=0)\n",
    "# plt.figure()\n",
    "# eval_on_features(df_train, features,regressor)"
   ]
  },
  {
   "cell_type": "code",
   "execution_count": 25,
   "id": "f0cbf10d",
   "metadata": {
    "execution": {
     "iopub.execute_input": "2022-03-25T10:43:56.061254Z",
     "iopub.status.busy": "2022-03-25T10:43:56.060250Z",
     "iopub.status.idle": "2022-03-25T10:43:56.064103Z",
     "shell.execute_reply": "2022-03-25T10:43:56.064705Z",
     "shell.execute_reply.started": "2022-03-25T10:42:16.251258Z"
    },
    "papermill": {
     "duration": 0.053458,
     "end_time": "2022-03-25T10:43:56.064894",
     "exception": false,
     "start_time": "2022-03-25T10:43:56.011436",
     "status": "completed"
    },
    "tags": []
   },
   "outputs": [],
   "source": [
    "# X_train = df_train.loc[df_train.time<end_train, features].set_index('time')\n",
    "# y_train = df_train.loc[df_train.time<end_train, ['congestion','time']].set_index('time')\n",
    "# X_valid = df_train.loc[df_train.time>=end_train, features].set_index('time')\n",
    "# y_valid = df_train.loc[df_train.time>=end_train, ['congestion','time']].set_index('time')"
   ]
  },
  {
   "cell_type": "code",
   "execution_count": 26,
   "id": "560d2796",
   "metadata": {
    "execution": {
     "iopub.execute_input": "2022-03-25T10:43:56.163235Z",
     "iopub.status.busy": "2022-03-25T10:43:56.162347Z",
     "iopub.status.idle": "2022-03-25T10:43:56.166673Z",
     "shell.execute_reply": "2022-03-25T10:43:56.167332Z",
     "shell.execute_reply.started": "2022-03-25T10:42:16.266831Z"
    },
    "papermill": {
     "duration": 0.05536,
     "end_time": "2022-03-25T10:43:56.167504",
     "exception": false,
     "start_time": "2022-03-25T10:43:56.112144",
     "status": "completed"
    },
    "tags": []
   },
   "outputs": [],
   "source": [
    "# regressor.fit(X_train,y_train)\n",
    "# pd.DataFrame(regressor.feature_importances_,index=X_train.columns)"
   ]
  },
  {
   "cell_type": "markdown",
   "id": "ff5201f1",
   "metadata": {
    "papermill": {
     "duration": 0.046388,
     "end_time": "2022-03-25T10:43:56.259391",
     "exception": false,
     "start_time": "2022-03-25T10:43:56.213003",
     "status": "completed"
    },
    "tags": []
   },
   "source": [
    "## Random Forest tree"
   ]
  },
  {
   "cell_type": "code",
   "execution_count": 27,
   "id": "fdf39bc4",
   "metadata": {
    "execution": {
     "iopub.execute_input": "2022-03-25T10:43:56.361024Z",
     "iopub.status.busy": "2022-03-25T10:43:56.360025Z",
     "iopub.status.idle": "2022-03-25T10:43:56.363468Z",
     "shell.execute_reply": "2022-03-25T10:43:56.363971Z",
     "shell.execute_reply.started": "2022-03-25T10:42:16.284695Z"
    },
    "papermill": {
     "duration": 0.059176,
     "end_time": "2022-03-25T10:43:56.364186",
     "exception": false,
     "start_time": "2022-03-25T10:43:56.305010",
     "status": "completed"
    },
    "tags": []
   },
   "outputs": [],
   "source": [
    "# regressor = RandomForestRegressor(n_estimators=100, random_state=0)\n",
    "# plt.figure()\n",
    "# eval_on_features(df_train, features,regressor) "
   ]
  },
  {
   "cell_type": "markdown",
   "id": "e6be4ae5",
   "metadata": {
    "papermill": {
     "duration": 0.057338,
     "end_time": "2022-03-25T10:43:56.478588",
     "exception": false,
     "start_time": "2022-03-25T10:43:56.421250",
     "status": "completed"
    },
    "tags": []
   },
   "source": [
    "## SK Forecast"
   ]
  },
  {
   "cell_type": "code",
   "execution_count": 28,
   "id": "7c455c59",
   "metadata": {
    "execution": {
     "iopub.execute_input": "2022-03-25T10:43:56.580664Z",
     "iopub.status.busy": "2022-03-25T10:43:56.579988Z",
     "iopub.status.idle": "2022-03-25T10:43:56.582541Z",
     "shell.execute_reply": "2022-03-25T10:43:56.581815Z",
     "shell.execute_reply.started": "2022-03-25T10:42:16.300168Z"
    },
    "papermill": {
     "duration": 0.055984,
     "end_time": "2022-03-25T10:43:56.582683",
     "exception": false,
     "start_time": "2022-03-25T10:43:56.526699",
     "status": "completed"
    },
    "tags": []
   },
   "outputs": [],
   "source": [
    "features = [\n",
    "# 'row_id',\n",
    "'time',\n",
    "#'x',\n",
    "# 'y',\n",
    "# 'direction',\n",
    "# 'congestion',\n",
    "# 'hour',\n",
    "'day_of_week',\n",
    "#'day_of_month',\n",
    "#relative_day',\n",
    "# 'relative_month',\n",
    "# 'relative_week',\n",
    "# 'road',\n",
    "'memorial_day',\n",
    "'independence_day',\n",
    "'labor_day',\n",
    "'road_enc',\n",
    "'hour_enc',\n",
    "#'direction_enc'\n",
    "]"
   ]
  },
  {
   "cell_type": "code",
   "execution_count": 29,
   "id": "68060939",
   "metadata": {
    "execution": {
     "iopub.execute_input": "2022-03-25T10:43:56.693057Z",
     "iopub.status.busy": "2022-03-25T10:43:56.678101Z",
     "iopub.status.idle": "2022-03-25T10:43:56.695807Z",
     "shell.execute_reply": "2022-03-25T10:43:56.696429Z",
     "shell.execute_reply.started": "2022-03-25T10:42:16.316942Z"
    },
    "papermill": {
     "duration": 0.068678,
     "end_time": "2022-03-25T10:43:56.696600",
     "exception": false,
     "start_time": "2022-03-25T10:43:56.627922",
     "status": "completed"
    },
    "tags": []
   },
   "outputs": [
    {
     "data": {
      "text/html": [
       "<div>\n",
       "<style scoped>\n",
       "    .dataframe tbody tr th:only-of-type {\n",
       "        vertical-align: middle;\n",
       "    }\n",
       "\n",
       "    .dataframe tbody tr th {\n",
       "        vertical-align: top;\n",
       "    }\n",
       "\n",
       "    .dataframe thead th {\n",
       "        text-align: right;\n",
       "    }\n",
       "</style>\n",
       "<table border=\"1\" class=\"dataframe\">\n",
       "  <thead>\n",
       "    <tr style=\"text-align: right;\">\n",
       "      <th></th>\n",
       "      <th>time</th>\n",
       "      <th>day_of_week</th>\n",
       "      <th>memorial_day</th>\n",
       "      <th>independence_day</th>\n",
       "      <th>labor_day</th>\n",
       "      <th>road_enc</th>\n",
       "      <th>hour_enc</th>\n",
       "    </tr>\n",
       "  </thead>\n",
       "  <tbody>\n",
       "    <tr>\n",
       "      <th>0</th>\n",
       "      <td>1991-09-30 12:00:00</td>\n",
       "      <td>0</td>\n",
       "      <td>0</td>\n",
       "      <td>0</td>\n",
       "      <td>0</td>\n",
       "      <td>0</td>\n",
       "      <td>36</td>\n",
       "    </tr>\n",
       "    <tr>\n",
       "      <th>1</th>\n",
       "      <td>1991-09-30 12:00:00</td>\n",
       "      <td>0</td>\n",
       "      <td>0</td>\n",
       "      <td>0</td>\n",
       "      <td>0</td>\n",
       "      <td>1</td>\n",
       "      <td>36</td>\n",
       "    </tr>\n",
       "    <tr>\n",
       "      <th>2</th>\n",
       "      <td>1991-09-30 12:00:00</td>\n",
       "      <td>0</td>\n",
       "      <td>0</td>\n",
       "      <td>0</td>\n",
       "      <td>0</td>\n",
       "      <td>2</td>\n",
       "      <td>36</td>\n",
       "    </tr>\n",
       "    <tr>\n",
       "      <th>3</th>\n",
       "      <td>1991-09-30 12:00:00</td>\n",
       "      <td>0</td>\n",
       "      <td>0</td>\n",
       "      <td>0</td>\n",
       "      <td>0</td>\n",
       "      <td>3</td>\n",
       "      <td>36</td>\n",
       "    </tr>\n",
       "    <tr>\n",
       "      <th>4</th>\n",
       "      <td>1991-09-30 12:00:00</td>\n",
       "      <td>0</td>\n",
       "      <td>0</td>\n",
       "      <td>0</td>\n",
       "      <td>0</td>\n",
       "      <td>4</td>\n",
       "      <td>36</td>\n",
       "    </tr>\n",
       "    <tr>\n",
       "      <th>...</th>\n",
       "      <td>...</td>\n",
       "      <td>...</td>\n",
       "      <td>...</td>\n",
       "      <td>...</td>\n",
       "      <td>...</td>\n",
       "      <td>...</td>\n",
       "      <td>...</td>\n",
       "    </tr>\n",
       "    <tr>\n",
       "      <th>2335</th>\n",
       "      <td>1991-09-30 23:40:00</td>\n",
       "      <td>0</td>\n",
       "      <td>0</td>\n",
       "      <td>0</td>\n",
       "      <td>0</td>\n",
       "      <td>60</td>\n",
       "      <td>71</td>\n",
       "    </tr>\n",
       "    <tr>\n",
       "      <th>2336</th>\n",
       "      <td>1991-09-30 23:40:00</td>\n",
       "      <td>0</td>\n",
       "      <td>0</td>\n",
       "      <td>0</td>\n",
       "      <td>0</td>\n",
       "      <td>61</td>\n",
       "      <td>71</td>\n",
       "    </tr>\n",
       "    <tr>\n",
       "      <th>2337</th>\n",
       "      <td>1991-09-30 23:40:00</td>\n",
       "      <td>0</td>\n",
       "      <td>0</td>\n",
       "      <td>0</td>\n",
       "      <td>0</td>\n",
       "      <td>62</td>\n",
       "      <td>71</td>\n",
       "    </tr>\n",
       "    <tr>\n",
       "      <th>2338</th>\n",
       "      <td>1991-09-30 23:40:00</td>\n",
       "      <td>0</td>\n",
       "      <td>0</td>\n",
       "      <td>0</td>\n",
       "      <td>0</td>\n",
       "      <td>63</td>\n",
       "      <td>71</td>\n",
       "    </tr>\n",
       "    <tr>\n",
       "      <th>2339</th>\n",
       "      <td>1991-09-30 23:40:00</td>\n",
       "      <td>0</td>\n",
       "      <td>0</td>\n",
       "      <td>0</td>\n",
       "      <td>0</td>\n",
       "      <td>64</td>\n",
       "      <td>71</td>\n",
       "    </tr>\n",
       "  </tbody>\n",
       "</table>\n",
       "<p>2340 rows × 7 columns</p>\n",
       "</div>"
      ],
      "text/plain": [
       "                    time  day_of_week  memorial_day  independence_day  \\\n",
       "0    1991-09-30 12:00:00            0             0                 0   \n",
       "1    1991-09-30 12:00:00            0             0                 0   \n",
       "2    1991-09-30 12:00:00            0             0                 0   \n",
       "3    1991-09-30 12:00:00            0             0                 0   \n",
       "4    1991-09-30 12:00:00            0             0                 0   \n",
       "...                  ...          ...           ...               ...   \n",
       "2335 1991-09-30 23:40:00            0             0                 0   \n",
       "2336 1991-09-30 23:40:00            0             0                 0   \n",
       "2337 1991-09-30 23:40:00            0             0                 0   \n",
       "2338 1991-09-30 23:40:00            0             0                 0   \n",
       "2339 1991-09-30 23:40:00            0             0                 0   \n",
       "\n",
       "      labor_day  road_enc  hour_enc  \n",
       "0             0         0        36  \n",
       "1             0         1        36  \n",
       "2             0         2        36  \n",
       "3             0         3        36  \n",
       "4             0         4        36  \n",
       "...         ...       ...       ...  \n",
       "2335          0        60        71  \n",
       "2336          0        61        71  \n",
       "2337          0        62        71  \n",
       "2338          0        63        71  \n",
       "2339          0        64        71  \n",
       "\n",
       "[2340 rows x 7 columns]"
      ]
     },
     "execution_count": 29,
     "metadata": {},
     "output_type": "execute_result"
    }
   ],
   "source": [
    "df_test[features]"
   ]
  },
  {
   "cell_type": "code",
   "execution_count": 30,
   "id": "957763b5",
   "metadata": {
    "execution": {
     "iopub.execute_input": "2022-03-25T10:43:56.792686Z",
     "iopub.status.busy": "2022-03-25T10:43:56.792040Z",
     "iopub.status.idle": "2022-03-25T10:43:57.186641Z",
     "shell.execute_reply": "2022-03-25T10:43:57.187232Z",
     "shell.execute_reply.started": "2022-03-25T10:42:16.344894Z"
    },
    "papermill": {
     "duration": 0.444767,
     "end_time": "2022-03-25T10:43:57.187442",
     "exception": false,
     "start_time": "2022-03-25T10:43:56.742675",
     "status": "completed"
    },
    "tags": []
   },
   "outputs": [],
   "source": [
    "X_train = df_train.loc[df_train.time<end_train, features+['row_id']].set_index('time')\n",
    "y_train = df_train.loc[df_train.time<end_train, ['congestion','time']].set_index('time')\n",
    "X_valid = df_train.loc[df_train.time>=end_train, features+['row_id']].set_index('time')\n",
    "y_valid = df_train.loc[df_train.time>=end_train, ['congestion','time']].set_index('time')\n",
    "X_test = df_test[features]"
   ]
  },
  {
   "cell_type": "code",
   "execution_count": 31,
   "id": "ce7a8660",
   "metadata": {
    "execution": {
     "iopub.execute_input": "2022-03-25T10:43:57.294682Z",
     "iopub.status.busy": "2022-03-25T10:43:57.293997Z",
     "iopub.status.idle": "2022-03-25T10:43:57.321050Z",
     "shell.execute_reply": "2022-03-25T10:43:57.321650Z",
     "shell.execute_reply.started": "2022-03-25T10:42:16.687752Z"
    },
    "papermill": {
     "duration": 0.083447,
     "end_time": "2022-03-25T10:43:57.321861",
     "exception": false,
     "start_time": "2022-03-25T10:43:57.238414",
     "status": "completed"
    },
    "tags": []
   },
   "outputs": [],
   "source": [
    "X_train_full=pd.concat([X_train,X_valid],axis=0)\n",
    "y_train_full=pd.concat([y_train,y_valid],axis=0)"
   ]
  },
  {
   "cell_type": "code",
   "execution_count": 32,
   "id": "494f4d2f",
   "metadata": {
    "execution": {
     "iopub.execute_input": "2022-03-25T10:43:57.430296Z",
     "iopub.status.busy": "2022-03-25T10:43:57.428056Z",
     "iopub.status.idle": "2022-03-25T10:43:57.432354Z",
     "shell.execute_reply": "2022-03-25T10:43:57.432912Z",
     "shell.execute_reply.started": "2022-03-25T10:42:16.719808Z"
    },
    "papermill": {
     "duration": 0.058764,
     "end_time": "2022-03-25T10:43:57.433112",
     "exception": false,
     "start_time": "2022-03-25T10:43:57.374348",
     "status": "completed"
    },
    "tags": []
   },
   "outputs": [],
   "source": [
    "features = [\n",
    "# 'row_id',\n",
    "#'time',\n",
    "#'x',\n",
    "# 'y',\n",
    "# 'direction',\n",
    "# 'congestion',\n",
    "# 'hour',\n",
    "'day_of_week',\n",
    "#'day_of_month',\n",
    "#relative_day',\n",
    "# 'relative_month',\n",
    "# 'relative_week',\n",
    "# 'road',\n",
    "'memorial_day',\n",
    "'independence_day',\n",
    "'labor_day',\n",
    "'road_enc',\n",
    "'hour_enc',\n",
    "#'direction_enc'\n",
    "]"
   ]
  },
  {
   "cell_type": "code",
   "execution_count": 33,
   "id": "c12d9721",
   "metadata": {
    "execution": {
     "iopub.execute_input": "2022-03-25T10:43:57.539333Z",
     "iopub.status.busy": "2022-03-25T10:43:57.538665Z",
     "iopub.status.idle": "2022-03-25T10:43:59.112524Z",
     "shell.execute_reply": "2022-03-25T10:43:59.113164Z",
     "shell.execute_reply.started": "2022-03-25T10:42:16.726952Z"
    },
    "papermill": {
     "duration": 1.627851,
     "end_time": "2022-03-25T10:43:59.113364",
     "exception": false,
     "start_time": "2022-03-25T10:43:57.485513",
     "status": "completed"
    },
    "tags": []
   },
   "outputs": [
    {
     "data": {
      "text/plain": [
       "DecisionTreeRegressor(random_state=0)"
      ]
     },
     "execution_count": 33,
     "metadata": {},
     "output_type": "execute_result"
    }
   ],
   "source": [
    "regressor = DecisionTreeRegressor(random_state=0)\n",
    "#regressor = DecisionTreeRegressor(random_state=0,criterion='absolute_error') #try absolute error\n",
    "regressor.fit(X_train_full[features],y_train_full)"
   ]
  },
  {
   "cell_type": "code",
   "execution_count": 34,
   "id": "33bb641d",
   "metadata": {
    "execution": {
     "iopub.execute_input": "2022-03-25T10:43:59.225725Z",
     "iopub.status.busy": "2022-03-25T10:43:59.224666Z",
     "iopub.status.idle": "2022-03-25T10:43:59.235740Z",
     "shell.execute_reply": "2022-03-25T10:43:59.236838Z",
     "shell.execute_reply.started": "2022-03-25T10:42:18.349706Z"
    },
    "papermill": {
     "duration": 0.071327,
     "end_time": "2022-03-25T10:43:59.237097",
     "exception": false,
     "start_time": "2022-03-25T10:43:59.165770",
     "status": "completed"
    },
    "tags": []
   },
   "outputs": [],
   "source": [
    "predictions = pd.DataFrame({'row_id':df_test['row_id'],'congestion':regressor.predict(X_test[features])})"
   ]
  },
  {
   "cell_type": "code",
   "execution_count": 35,
   "id": "1ee87920",
   "metadata": {
    "execution": {
     "iopub.execute_input": "2022-03-25T10:43:59.352388Z",
     "iopub.status.busy": "2022-03-25T10:43:59.351323Z",
     "iopub.status.idle": "2022-03-25T10:43:59.364705Z",
     "shell.execute_reply": "2022-03-25T10:43:59.364041Z",
     "shell.execute_reply.started": "2022-03-25T10:43:09.236880Z"
    },
    "papermill": {
     "duration": 0.073235,
     "end_time": "2022-03-25T10:43:59.364858",
     "exception": false,
     "start_time": "2022-03-25T10:43:59.291623",
     "status": "completed"
    },
    "tags": []
   },
   "outputs": [
    {
     "data": {
      "text/html": [
       "<div>\n",
       "<style scoped>\n",
       "    .dataframe tbody tr th:only-of-type {\n",
       "        vertical-align: middle;\n",
       "    }\n",
       "\n",
       "    .dataframe tbody tr th {\n",
       "        vertical-align: top;\n",
       "    }\n",
       "\n",
       "    .dataframe thead th {\n",
       "        text-align: right;\n",
       "    }\n",
       "</style>\n",
       "<table border=\"1\" class=\"dataframe\">\n",
       "  <thead>\n",
       "    <tr style=\"text-align: right;\">\n",
       "      <th></th>\n",
       "      <th>row_id</th>\n",
       "      <th>congestion</th>\n",
       "    </tr>\n",
       "  </thead>\n",
       "  <tbody>\n",
       "    <tr>\n",
       "      <th>0</th>\n",
       "      <td>848835</td>\n",
       "      <td>46.250000</td>\n",
       "    </tr>\n",
       "    <tr>\n",
       "      <th>1</th>\n",
       "      <td>848836</td>\n",
       "      <td>35.333333</td>\n",
       "    </tr>\n",
       "    <tr>\n",
       "      <th>2</th>\n",
       "      <td>848837</td>\n",
       "      <td>57.125000</td>\n",
       "    </tr>\n",
       "    <tr>\n",
       "      <th>3</th>\n",
       "      <td>848838</td>\n",
       "      <td>22.875000</td>\n",
       "    </tr>\n",
       "    <tr>\n",
       "      <th>4</th>\n",
       "      <td>848839</td>\n",
       "      <td>73.291667</td>\n",
       "    </tr>\n",
       "    <tr>\n",
       "      <th>...</th>\n",
       "      <td>...</td>\n",
       "      <td>...</td>\n",
       "    </tr>\n",
       "    <tr>\n",
       "      <th>2335</th>\n",
       "      <td>851170</td>\n",
       "      <td>68.000000</td>\n",
       "    </tr>\n",
       "    <tr>\n",
       "      <th>2336</th>\n",
       "      <td>851171</td>\n",
       "      <td>34.291667</td>\n",
       "    </tr>\n",
       "    <tr>\n",
       "      <th>2337</th>\n",
       "      <td>851172</td>\n",
       "      <td>70.958333</td>\n",
       "    </tr>\n",
       "    <tr>\n",
       "      <th>2338</th>\n",
       "      <td>851173</td>\n",
       "      <td>17.291667</td>\n",
       "    </tr>\n",
       "    <tr>\n",
       "      <th>2339</th>\n",
       "      <td>851174</td>\n",
       "      <td>38.583333</td>\n",
       "    </tr>\n",
       "  </tbody>\n",
       "</table>\n",
       "<p>2340 rows × 2 columns</p>\n",
       "</div>"
      ],
      "text/plain": [
       "      row_id  congestion\n",
       "0     848835   46.250000\n",
       "1     848836   35.333333\n",
       "2     848837   57.125000\n",
       "3     848838   22.875000\n",
       "4     848839   73.291667\n",
       "...      ...         ...\n",
       "2335  851170   68.000000\n",
       "2336  851171   34.291667\n",
       "2337  851172   70.958333\n",
       "2338  851173   17.291667\n",
       "2339  851174   38.583333\n",
       "\n",
       "[2340 rows x 2 columns]"
      ]
     },
     "execution_count": 35,
     "metadata": {},
     "output_type": "execute_result"
    }
   ],
   "source": [
    "predictions"
   ]
  },
  {
   "cell_type": "markdown",
   "id": "943dada0",
   "metadata": {
    "papermill": {
     "duration": 0.052901,
     "end_time": "2022-03-25T10:43:59.473288",
     "exception": false,
     "start_time": "2022-03-25T10:43:59.420387",
     "status": "completed"
    },
    "tags": []
   },
   "source": [
    "## Submission"
   ]
  },
  {
   "cell_type": "code",
   "execution_count": 36,
   "id": "7577c579",
   "metadata": {
    "execution": {
     "iopub.execute_input": "2022-03-25T10:43:59.586586Z",
     "iopub.status.busy": "2022-03-25T10:43:59.585927Z",
     "iopub.status.idle": "2022-03-25T10:43:59.602094Z",
     "shell.execute_reply": "2022-03-25T10:43:59.602676Z"
    },
    "papermill": {
     "duration": 0.074052,
     "end_time": "2022-03-25T10:43:59.602972",
     "exception": false,
     "start_time": "2022-03-25T10:43:59.528920",
     "status": "completed"
    },
    "tags": []
   },
   "outputs": [],
   "source": [
    "predictions.to_csv('baseline_2.csv',index=False)"
   ]
  },
  {
   "cell_type": "code",
   "execution_count": 37,
   "id": "ef19f07f",
   "metadata": {
    "execution": {
     "iopub.execute_input": "2022-03-25T10:43:59.716759Z",
     "iopub.status.busy": "2022-03-25T10:43:59.716043Z",
     "iopub.status.idle": "2022-03-25T10:43:59.718980Z",
     "shell.execute_reply": "2022-03-25T10:43:59.719485Z"
    },
    "papermill": {
     "duration": 0.06187,
     "end_time": "2022-03-25T10:43:59.719690",
     "exception": false,
     "start_time": "2022-03-25T10:43:59.657820",
     "status": "completed"
    },
    "tags": []
   },
   "outputs": [],
   "source": [
    "# !cat submission_last_day.csv"
   ]
  }
 ],
 "metadata": {
  "kernelspec": {
   "display_name": "Python 3",
   "language": "python",
   "name": "python3"
  },
  "language_info": {
   "codemirror_mode": {
    "name": "ipython",
    "version": 3
   },
   "file_extension": ".py",
   "mimetype": "text/x-python",
   "name": "python",
   "nbconvert_exporter": "python",
   "pygments_lexer": "ipython3",
   "version": "3.7.12"
  },
  "papermill": {
   "default_parameters": {},
   "duration": 35.298244,
   "end_time": "2022-03-25T10:44:00.687767",
   "environment_variables": {},
   "exception": null,
   "input_path": "__notebook__.ipynb",
   "output_path": "__notebook__.ipynb",
   "parameters": {},
   "start_time": "2022-03-25T10:43:25.389523",
   "version": "2.3.3"
  }
 },
 "nbformat": 4,
 "nbformat_minor": 5
}
